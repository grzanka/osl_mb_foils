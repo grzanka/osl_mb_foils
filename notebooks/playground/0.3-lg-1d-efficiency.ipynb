{
 "cells": [
  {
   "cell_type": "code",
   "execution_count": null,
   "metadata": {
    "metadata": {}
   },
   "outputs": [],
   "source": [
    "from src.visualise import settings\n",
    "from src.visualise.plot import plot_data\n",
    "from src.data.paths import project_dir\n",
    "from src.data.analysis import read_tiff_img, Circle, create_circular_mask\n",
    "from src.data.detector import find_circle_hough_method, img_for_circle_detection\n",
    "\n",
    "import numpy as np\n",
    "import matplotlib.pyplot as plt\n",
    "import scipy.ndimage as ndi\n",
    "import re\n",
    "\n",
    "from dataclasses import dataclass, field\n",
    "from pathlib import Path\n",
    "\n",
    "from copy import deepcopy\n",
    "\n",
    "import pandas as pd\n",
    "import seaborn as sns\n",
    "sns.set_theme(style=\"whitegrid\")"
   ]
  },
  {
   "cell_type": "markdown",
   "metadata": {},
   "source": [
    "# Efficiency data"
   ]
  },
  {
   "cell_type": "code",
   "execution_count": null,
   "metadata": {},
   "outputs": [],
   "source": [
    "df = pd.read_hdf(project_dir / 'data' / 'interim' / 'data.h5', key='df')\n",
    "df"
   ]
  },
  {
   "cell_type": "code",
   "execution_count": null,
   "metadata": {},
   "outputs": [],
   "source": [
    "df2 = pd.DataFrame()\n",
    "df2[\"mean\"] = df.groupby([\"radiation\", \"det_no\"])[\"mean_signal\"].mean()\n",
    "df2[\"std\"] = df.groupby([\"radiation\", \"det_no\"])[\"mean_signal\"].std()\n",
    "df2"
   ]
  },
  {
   "cell_type": "code",
   "execution_count": null,
   "metadata": {},
   "outputs": [],
   "source": [
    "# Reset the index if df2 is a MultiIndex DataFrame\n",
    "df2_reset = df2.reset_index()\n",
    "\n",
    "# Create a figure and axis object\n",
    "plt.figure(figsize=(10, 6))\n",
    "\n",
    "# Plot the mean values with line and scatter points\n",
    "sns.lineplot(data=df2_reset, x='det_no', y='mean', hue='radiation', style='radiation', markers=True, dashes=False)\n",
    "\n",
    "# Add error bars\n",
    "for radiation_type in df2_reset['radiation'].unique():\n",
    "    subset = df2_reset[df2_reset['radiation'] == radiation_type]\n",
    "    plt.errorbar(subset['det_no'], subset['mean'], yerr=subset['std'], fmt='none', capsize=5, label=f'{radiation_type} Error')\n",
    "\n",
    "plt.title('Mean Values and Standard Deviations by Detector Number')\n",
    "plt.xlabel('Detector Number')\n",
    "plt.ylabel('Measured Value')\n",
    "plt.legend(title='Radiation Type')"
   ]
  },
  {
   "cell_type": "markdown",
   "metadata": {},
   "source": [
    "# Bragg peak data from dosimetry and MC"
   ]
  },
  {
   "cell_type": "code",
   "execution_count": null,
   "metadata": {},
   "outputs": [],
   "source": [
    "df_bp_exp = pd.read_hdf(project_dir / 'data' / 'raw' / 'article-plots.h5', key='bp_exp')\n",
    "df_bp_mc = pd.read_hdf(project_dir / 'data' / 'raw' / 'article-plots.h5', key='bp_mc')"
   ]
  },
  {
   "cell_type": "code",
   "execution_count": null,
   "metadata": {},
   "outputs": [],
   "source": [
    "fig, ax_up = plt.subplots(nrows=1, sharex=True)\n",
    "df_bp_exp.plot(ax=ax_up, x='Depth', y='Signal', label='Markus chamber', color='black', style='-')\n",
    "df_bp_mc.plot(ax=ax_up, x='z_mm', y='dose', label='MC simulation', color='green', style='-')\n",
    "ax_up.set_ylim(0,1.05)\n",
    "ax_up.set_xlim(0, 31)\n",
    "ax_up.set_ylabel(\"Relative dose [a.u.]\");"
   ]
  },
  {
   "cell_type": "markdown",
   "metadata": {},
   "source": [
    "# Detector positions"
   ]
  },
  {
   "cell_type": "code",
   "execution_count": null,
   "metadata": {},
   "outputs": [],
   "source": [
    "df_pos = pd.read_excel(project_dir / 'data' / 'raw' / 'foils_phantom.xlsx', \n",
    "sheet_name='Arkusz1', \n",
    "skiprows=6, \n",
    "nrows=32, \n",
    "usecols=\"A,D:E\",\n",
    "names=[\"det_no\", \"det_thick\", \"det_end\"])\n",
    "# drop row no 5\n",
    "df_pos.drop(5, inplace=True)\n",
    "df_pos['det_begin'] = df_pos.det_end - df_pos.det_thick\n",
    "df_pos['det_mid'] = (df_pos.det_begin + df_pos.det_end) / 2\n",
    "df_pos"
   ]
  },
  {
   "cell_type": "code",
   "execution_count": null,
   "metadata": {},
   "outputs": [],
   "source": [
    "# join df_reset with df_pos on det_no\n",
    "df_reset_pos = df2_reset.join(df_pos.set_index('det_no'), on='det_no')\n",
    "df_reset_pos"
   ]
  },
  {
   "cell_type": "code",
   "execution_count": null,
   "metadata": {},
   "outputs": [],
   "source": [
    "# Create a figure and axis object\n",
    "plt.figure(figsize=(10, 6))\n",
    "\n",
    "# Add error bars\n",
    "for radiation_type in df_reset_pos['radiation'].unique():\n",
    "    subset = df_reset_pos[df_reset_pos['radiation'] == radiation_type]\n",
    "    plt.errorbar(subset['det_mid'], subset['mean'], yerr=subset['std'], ls='', marker='.', label=f'{radiation_type}')\n",
    "\n",
    "plt.xlabel('Depth in water [mm]')\n",
    "plt.ylabel('Detector signal')\n",
    "plt.legend(title='Radiation Type')\n",
    "plt.ylim(0,None)\n",
    "plt.xlim(0,30)"
   ]
  },
  {
   "cell_type": "markdown",
   "metadata": {},
   "source": [
    "# Dose per detector"
   ]
  },
  {
   "cell_type": "code",
   "execution_count": null,
   "metadata": {},
   "outputs": [],
   "source": [
    "df_bp_mc"
   ]
  },
  {
   "cell_type": "code",
   "execution_count": null,
   "metadata": {},
   "outputs": [],
   "source": [
    "# create spline interpolator object from scipy for x = df_bp_mc.z_mm and y = df_bp_mc.dose\n",
    "from scipy.interpolate import interp1d\n",
    "f = interp1d(df_bp_mc.z_mm, df_bp_mc.dose, kind='cubic')"
   ]
  },
  {
   "cell_type": "code",
   "execution_count": null,
   "metadata": {},
   "outputs": [],
   "source": [
    "df_bp_mc.iloc[0].dose"
   ]
  },
  {
   "cell_type": "code",
   "execution_count": null,
   "metadata": {},
   "outputs": [],
   "source": [
    "# for such rows of df_reset_pos where radiation is 'proton' calculate 'dose' as f(df_reset_pos.det_mid)\n",
    "entrance_dose_protons_Gy = 5\n",
    "dose_Co60 = 5\n",
    "df_reset_pos.loc[df_reset_pos.radiation == 'proton', 'dose'] = f(df_reset_pos[df_reset_pos.radiation == 'proton'].det_mid) / df_bp_mc.iloc[0].dose * entrance_dose_protons_Gy\n",
    "df_reset_pos.loc[df_reset_pos.radiation == 'Co60', 'dose'] = dose_Co60"
   ]
  },
  {
   "cell_type": "code",
   "execution_count": null,
   "metadata": {},
   "outputs": [],
   "source": [
    "df_reset_pos['mean_signal_per_Gy'] = df_reset_pos['mean'] / df_reset_pos['dose']\n",
    "df_reset_pos['std_signal_per_Gy'] = df_reset_pos['std'] / df_reset_pos['dose']\n",
    "df_reset_pos"
   ]
  },
  {
   "cell_type": "code",
   "execution_count": null,
   "metadata": {},
   "outputs": [],
   "source": [
    "# Create a figure and axis object\n",
    "plt.figure(figsize=(10, 6))\n",
    "\n",
    "# Add error bars\n",
    "for radiation_type in df_reset_pos['radiation'].unique():\n",
    "    subset = df_reset_pos[df_reset_pos['radiation'] == radiation_type]\n",
    "    plt.errorbar(subset['det_mid'], subset['mean_signal_per_Gy'], yerr=subset['std_signal_per_Gy'], ls='', marker='.', label=f'{radiation_type}')\n",
    "\n",
    "plt.xlabel('Depth in water [mm]')\n",
    "plt.ylabel('Signal per Gy')\n",
    "plt.legend(title='Radiation Type')\n",
    "plt.ylim(0,None)\n",
    "plt.xlim(0,30)"
   ]
  },
  {
   "cell_type": "code",
   "execution_count": null,
   "metadata": {},
   "outputs": [],
   "source": [
    "co60_data = df_reset_pos.loc[df_reset_pos.radiation == 'Co60']\n",
    "proton_data = df_reset_pos.loc[df_reset_pos.radiation == 'proton']\n",
    "all_data = co60_data.merge(proton_data, on='det_no', suffixes=['_Co60', '_proton'])\n",
    "all_data['mean_efficiency'] = all_data['mean_signal_per_Gy_proton'] / all_data['mean_signal_per_Gy_Co60']\n",
    "numerator_relative_std = all_data['std_signal_per_Gy_proton'] / all_data['mean_signal_per_Gy_Co60']\n",
    "denominator_term = all_data['mean_signal_per_Gy_proton'] * all_data['std_signal_per_Gy_Co60'] / (all_data['mean_signal_per_Gy_Co60']**2)\n",
    "all_data['std_efficiency'] = numerator_relative_std + denominator_term"
   ]
  },
  {
   "cell_type": "code",
   "execution_count": null,
   "metadata": {},
   "outputs": [],
   "source": [
    "# Create a figure and axis object\n",
    "plt.figure(figsize=(10, 6))\n",
    "\n",
    "# Add error bars\n",
    "plt.errorbar(all_data['det_mid_proton'], all_data['mean_efficiency'], yerr=all_data['std_efficiency'], ls='', marker='.', label=f'efficiency')\n",
    "\n",
    "plt.xlabel('Depth in water [mm]')\n",
    "plt.ylabel('Signal per Gy')\n",
    "plt.legend(title='Radiation Type')\n",
    "plt.ylim(0,None)\n",
    "plt.xlim(0,30)"
   ]
  },
  {
   "cell_type": "code",
   "execution_count": null,
   "metadata": {},
   "outputs": [],
   "source": []
  }
 ],
 "metadata": {
  "kernelspec": {
   "display_name": ".venv",
   "language": "python",
   "name": "python3"
  },
  "language_info": {
   "codemirror_mode": {
    "name": "ipython",
    "version": 3
   },
   "file_extension": ".py",
   "mimetype": "text/x-python",
   "name": "python",
   "nbconvert_exporter": "python",
   "pygments_lexer": "ipython3",
   "version": "3.11.6"
  }
 },
 "nbformat": 4,
 "nbformat_minor": 2
}
