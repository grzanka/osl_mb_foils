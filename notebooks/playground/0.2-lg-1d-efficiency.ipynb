{
 "cells": [
  {
   "cell_type": "code",
   "execution_count": null,
   "metadata": {},
   "outputs": [],
   "source": [
    "from src.visualise import settings\n",
    "from src.visualise.plot import plot_data\n",
    "from src.data.paths import project_dir\n",
    "from src.data.analysis import read_tiff_img, Circle, create_circular_mask\n",
    "from src.data.detector import find_circle_hough_method, img_for_circle_detection\n",
    "\n",
    "import numpy as np\n",
    "import matplotlib.pyplot as plt\n",
    "import scipy.ndimage as ndi\n",
    "import re\n",
    "\n",
    "from dataclasses import dataclass, field\n",
    "from pathlib import Path\n",
    "\n",
    "from copy import deepcopy"
   ]
  },
  {
   "cell_type": "code",
   "execution_count": null,
   "metadata": {},
   "outputs": [],
   "source": [
    "@dataclass(frozen=True)\n",
    "class DetectorImage:\n",
    "    image: np.ndarray\n",
    "    path: Path\n",
    "\n",
    "    @property\n",
    "    def init_circle(self) -> Circle:\n",
    "        return Circle(x=self.image.shape[0]//2, y=self.image.shape[1]//2, r=100)\n",
    "\n",
    "@dataclass(frozen=True)\n",
    "class DetectorData:\n",
    "    raw: DetectorImage\n",
    "    lv: DetectorImage\n",
    "    det_no: int\n",
    "\n",
    "@dataclass(frozen=True)\n",
    "class DetectorDataCollection:\n",
    "    path: Path\n",
    "    data: dict[int, DetectorData] = field(default_factory=dict)\n",
    "\n",
    "    def __post_init__(self):\n",
    "        if not self.data:\n",
    "            self._load_data()\n",
    "\n",
    "    def _load_data(self):\n",
    "        for file_path in sorted(self.path.iterdir()):\n",
    "            if file_path.name.endswith('lv'):\n",
    "                # get detector data\n",
    "                det_id = re.findall(r'\\d+', file_path.name)[0]\n",
    "                det_no = int(det_id)\n",
    "                # live view images\n",
    "                lv_path = next(file_path.glob('**/*tif'))\n",
    "                lv_data = read_tiff_img(lv_path, border_px=0)\n",
    "                lv_image = DetectorImage(image=lv_data, path=lv_path)\n",
    "                # raw data images\n",
    "                try:\n",
    "                    raw_path = next((self.path / det_id).glob('**/*tif'))\n",
    "                    raw_data = read_tiff_img(raw_path, border_px=0)\n",
    "                    raw_image = DetectorImage(image=raw_data, path=raw_path)\n",
    "                    det_data = DetectorData(raw=raw_image, lv=lv_image, det_no=det_no)\n",
    "                    self.data[det_no] = det_data\n",
    "                    print(f\"{det_no} \", end='')\n",
    "                except StopIteration:\n",
    "                    print(f\"missing_{det_no} \", end='')"
   ]
  },
  {
   "cell_type": "code",
   "execution_count": null,
   "metadata": {},
   "outputs": [],
   "source": [
    "raw_path = project_dir / 'data' / 'raw' / '2024-02-20'\n",
    "proton_data = DetectorDataCollection(path=raw_path)"
   ]
  },
  {
   "cell_type": "code",
   "execution_count": null,
   "metadata": {},
   "outputs": [],
   "source": [
    "co60_path = project_dir / 'data' / 'raw' / 'Co60'\n",
    "co60_data = DetectorDataCollection(path=co60_path)"
   ]
  },
  {
   "cell_type": "code",
   "execution_count": null,
   "metadata": {},
   "outputs": [],
   "source": [
    "proton_data.data[1].lv.init_circle"
   ]
  },
  {
   "cell_type": "markdown",
   "metadata": {},
   "source": [
    "# Proton raw data"
   ]
  },
  {
   "cell_type": "code",
   "execution_count": null,
   "metadata": {},
   "outputs": [],
   "source": [
    "fig, ax = plot_data(proton_data.data[1].lv.image, path='', circle_px=proton_data.data[1].lv.init_circle, figsize=(10,12))"
   ]
  },
  {
   "cell_type": "code",
   "execution_count": null,
   "metadata": {},
   "outputs": [],
   "source": [
    "fig, ax = plot_data(proton_data.data[1].raw.image, path='', circle_px=proton_data.data[1].raw.init_circle, figsize=(10,12))"
   ]
  },
  {
   "cell_type": "markdown",
   "metadata": {},
   "source": [
    "# Co60 raw data"
   ]
  },
  {
   "cell_type": "code",
   "execution_count": null,
   "metadata": {},
   "outputs": [],
   "source": [
    "fig, ax = plot_data(co60_data.data[1].lv.image, path='', circle_px=co60_data.data[1].lv.init_circle, figsize=(10,12))"
   ]
  },
  {
   "cell_type": "code",
   "execution_count": null,
   "metadata": {},
   "outputs": [],
   "source": [
    "fig, ax = plot_data(co60_data.data[1].raw.image, path='', circle_px=co60_data.data[1].raw.init_circle, figsize=(10,12))"
   ]
  },
  {
   "cell_type": "markdown",
   "metadata": {},
   "source": [
    "## Background"
   ]
  },
  {
   "cell_type": "code",
   "execution_count": null,
   "metadata": {},
   "outputs": [],
   "source": [
    "background_path = next(raw_path.parent.glob('**/*background*/**/**/*tif'))\n",
    "background_data = DetectorImage(path=background_path, image=read_tiff_img(background_path, border_px=0))"
   ]
  },
  {
   "cell_type": "code",
   "execution_count": null,
   "metadata": {},
   "outputs": [],
   "source": [
    "background_data.image.max()"
   ]
  },
  {
   "cell_type": "code",
   "execution_count": null,
   "metadata": {},
   "outputs": [],
   "source": [
    "fig, ax = plot_data(background_data.image, path='', circle_px=background_data.init_circle, figsize=(10,12))"
   ]
  },
  {
   "cell_type": "markdown",
   "metadata": {},
   "source": [
    "# Background subtraction"
   ]
  },
  {
   "cell_type": "code",
   "execution_count": null,
   "metadata": {},
   "outputs": [],
   "source": [
    "proton_bg_sub_data = DetectorDataCollection(path=proton_data.path, data=deepcopy(proton_data.data))\n",
    "for data in proton_bg_sub_data.data.values():\n",
    "\n",
    "    # out data are save as uint16, dataclasses are frozen\n",
    "    # its not straightforward to use np.crop(0) or cast to int64\n",
    "    # therefore we shift data up, perform background subtraction, crop negative values and shift back\n",
    "    np.add(data.raw.image, background_data.image.max(), out=data.raw.image)    \n",
    "    np.subtract(data.raw.image, background_data.image, out=data.raw.image)\n",
    "    np.clip(data.raw.image, a_min=background_data.image.max(), a_max=None, out=data.raw.image)\n",
    "    np.subtract(data.raw.image, background_data.image.max(), out=data.raw.image)\n"
   ]
  },
  {
   "cell_type": "code",
   "execution_count": null,
   "metadata": {},
   "outputs": [],
   "source": [
    "co60_bg_sub_data = DetectorDataCollection(path=co60_data.path, data=deepcopy(co60_data.data))\n",
    "for data in co60_bg_sub_data.data.values():\n",
    "\n",
    "    # out data are save as uint16, dataclasses are frozen\n",
    "    # its not straightforward to use np.crop(0) or cast to int64\n",
    "    # therefore we shift data up, perform background subtraction, crop negative values and shift back\n",
    "    np.add(data.raw.image, background_data.image.max(), out=data.raw.image)    \n",
    "    np.subtract(data.raw.image, background_data.image, out=data.raw.image)\n",
    "    np.clip(data.raw.image, a_min=background_data.image.max(), a_max=None, out=data.raw.image)\n",
    "    np.subtract(data.raw.image, background_data.image.max(), out=data.raw.image)"
   ]
  },
  {
   "cell_type": "code",
   "execution_count": null,
   "metadata": {},
   "outputs": [],
   "source": [
    "fig, ax = plot_data(proton_data.data[1].raw.image, path='', circle_px=proton_data.data[1].raw.init_circle, figsize=(10,12))"
   ]
  },
  {
   "cell_type": "code",
   "execution_count": null,
   "metadata": {},
   "outputs": [],
   "source": [
    "fig, ax = plot_data(proton_bg_sub_data.data[1].raw.image, path='', circle_px=proton_bg_sub_data.data[1].raw.init_circle, figsize=(10,12))"
   ]
  },
  {
   "cell_type": "markdown",
   "metadata": {},
   "source": [
    "## Detector discovery"
   ]
  },
  {
   "cell_type": "code",
   "execution_count": null,
   "metadata": {},
   "outputs": [],
   "source": [
    "# import numpy.typing as npt\n",
    "# import logging\n",
    "# def img_for_circle_detection(data: npt.NDArray, r: float = 100, nsigma: float = 2., old_method : bool = False) -> npt.NDArray:\n",
    "#     logging.info('Before setting threshold ' +\n",
    "#                  f'min {np.nanmin(data)}, mean {np.nanmean(data):3.3f}, max {np.nanmax(data)}')\n",
    "#     output = np.zeros(shape=data.shape, dtype='uint8')\n",
    "\n",
    "#     circle_inside_det = Circle(x=data.shape[0]/2,y=data.shape[0]/2,r=r)\n",
    "#     mask_inside_det = create_circular_mask(data, circle_inside_det)\n",
    "#     upper_threshold = np.mean(data, where=mask_inside_det) + nsigma * np.std(data, where=mask_inside_det)\n",
    "#     lower_threshold = np.mean(data, where=mask_inside_det) - nsigma * np.std(data, where=mask_inside_det)\n",
    "\n",
    "#     if old_method:\n",
    "#         lower_threshold = np.percentile(data, 95)\n",
    "#         upper_threshold = np.max(data)\n",
    "#     print(lower_threshold, upper_threshold)\n",
    "    \n",
    "#     output[(data > lower_threshold) & (data < upper_threshold)] = 255\n",
    "#     output[np.isnan(data)] = 255\n",
    "#     logging.info('After setting threshold ' +\n",
    "#                  f'min {np.min(output)}, mean {np.mean(output):3.3f}, max {np.max(output)}')\n",
    "#     return output\n",
    "\n",
    "# import cv2\n",
    "# def find_circle_hough_method(data: npt.NDArray) -> Circle:\n",
    "#     logging.info(f'Detector circle not provided, calculating with Hough method')\n",
    "#     hough_results = cv2.HoughCircles(data, cv2.HOUGH_GRADIENT, dp=1, minDist=10000, param1=10, param2=0.9, minRadius=100, maxRadius=200)\n",
    "#     logging.info(f'Hough method results {hough_results}')\n",
    "#     result_circle = Circle()\n",
    "#     if hough_results is None:\n",
    "#         print(\"No detector found by Hough method\")\n",
    "#     elif hough_results.shape[0] > 1:\n",
    "#         print(\"More than one shape found by Hough method\")\n",
    "#     elif hough_results.shape[0] == 1 and hough_results.shape[1] == 1:\n",
    "#         # explicit conversion to float is needed to ensure proper JSON serialisation\n",
    "#         # hough_results is a numpy float32 array and float32 is not JSON serialisable\n",
    "#         result_circle = Circle(\n",
    "#             x=float(hough_results[0, 0, 0]),\n",
    "#             y=float(hough_results[0, 0, 1]),\n",
    "#             r=float(hough_results[0, 0, 2]),\n",
    "#         )\n",
    "#         logging.info(f'Detected circle {result_circle}')\n",
    "#     return result_circle"
   ]
  },
  {
   "cell_type": "code",
   "execution_count": null,
   "metadata": {},
   "outputs": [],
   "source": [
    "lv_for_detect = img_for_circle_detection(proton_bg_sub_data.data[1].lv.image, nsigma=2)"
   ]
  },
  {
   "cell_type": "code",
   "execution_count": null,
   "metadata": {},
   "outputs": [],
   "source": [
    "find_circle_hough_method(lv_for_detect)"
   ]
  },
  {
   "cell_type": "code",
   "execution_count": null,
   "metadata": {},
   "outputs": [],
   "source": [
    "fig, ax = plot_data(proton_data.data[1].lv.image, path='', circle_px=find_circle_hough_method(lv_for_detect), figsize=(10,12))"
   ]
  },
  {
   "cell_type": "code",
   "execution_count": null,
   "metadata": {},
   "outputs": [],
   "source": [
    "fig, ax = plot_data(proton_data.data[1].raw.image, path='', circle_px=find_circle_hough_method(lv_for_detect), figsize=(10,12))"
   ]
  },
  {
   "cell_type": "code",
   "execution_count": null,
   "metadata": {},
   "outputs": [],
   "source": [
    "co60_data_bg_removed = (co60_data.astype(np.int64)-background_data.astype(np.int64)).clip(0,None)\n",
    "mask_for_circle = create_circular_mask(img=co60_data_bg_removed, circle_px=Circle(c.x, c.y, 80))\n",
    "co60_data_bg_removed_mean = np.mean(co60_data_bg_removed[mask_for_circle], where=co60_data_bg_removed[mask_for_circle]>0)\n",
    "co60_data_bg_removed_std = np.std(co60_data_bg_removed[mask_for_circle], where=co60_data_bg_removed[mask_for_circle]>0)\n",
    "co60_data_bg_removed_mean, co60_data_bg_removed_std / co60_data_bg_removed_mean"
   ]
  },
  {
   "cell_type": "code",
   "execution_count": null,
   "metadata": {},
   "outputs": [],
   "source": [
    "dose_Co60 = 5\n",
    "co60_data_bg_removed_mean / dose_Co60"
   ]
  },
  {
   "cell_type": "code",
   "execution_count": null,
   "metadata": {},
   "outputs": [],
   "source": [
    "plot_data((proton_data.astype(np.int64)-background_data.astype(np.int64)).clip(0,None), path='', circle_px=Circle(c.x, c.y, 80))"
   ]
  },
  {
   "cell_type": "code",
   "execution_count": null,
   "metadata": {},
   "outputs": [],
   "source": [
    "dose_proton_Gy = 5\n",
    "\n",
    "proton_data_bg_removed = (proton_data.astype(np.int64)-background_data.astype(np.int64)).clip(0,None)\n",
    "mask_for_circle = create_circular_mask(img=proton_data_bg_removed, circle_px=Circle(c.x, c.y, 80))\n",
    "proton_data_bg_removed_mean = np.mean(proton_data_bg_removed[mask_for_circle], where=proton_data_bg_removed[mask_for_circle]>0)\n",
    "proton_data_bg_removed_std = np.std(proton_data_bg_removed[mask_for_circle], where=proton_data_bg_removed[mask_for_circle]>0)\n",
    "proton_data_bg_removed_mean\n",
    "\n",
    "proton_data_bg_removed_mean / dose_proton_Gy, proton_data_bg_removed_std / proton_data_bg_removed_mean"
   ]
  },
  {
   "cell_type": "markdown",
   "metadata": {},
   "source": [
    "# Efficiency"
   ]
  },
  {
   "cell_type": "code",
   "execution_count": null,
   "metadata": {},
   "outputs": [],
   "source": [
    "co60_signal_per_Gy = (co60_data.astype(np.int64)-background_data.astype(np.int64)).clip(1,None) / dose_Co60\n",
    "proton_signal_per_Gy = (proton_data.astype(np.int64)-background_data.astype(np.int64)).clip(1,None) / dose_proton_Gy\n",
    "plot_data((proton_signal_per_Gy / co60_signal_per_Gy).clip(0.001,2), path='', circle_px=Circle(c.x, c.y, 80))"
   ]
  },
  {
   "cell_type": "code",
   "execution_count": null,
   "metadata": {},
   "outputs": [],
   "source": [
    "(proton_data_bg_removed_mean / dose_proton_Gy) / (co60_data_bg_removed_mean / dose_Co60)"
   ]
  },
  {
   "cell_type": "code",
   "execution_count": null,
   "metadata": {},
   "outputs": [],
   "source": [
    "plot_data(ndi.median_filter((proton_signal_per_Gy / co60_signal_per_Gy).clip(0.001,2),size=20), path='', circle_px=Circle(c.x, c.y, 80))"
   ]
  },
  {
   "cell_type": "code",
   "execution_count": null,
   "metadata": {},
   "outputs": [],
   "source": []
  }
 ],
 "metadata": {
  "kernelspec": {
   "display_name": ".venv",
   "language": "python",
   "name": "python3"
  },
  "language_info": {
   "codemirror_mode": {
    "name": "ipython",
    "version": 3
   },
   "file_extension": ".py",
   "mimetype": "text/x-python",
   "name": "python",
   "nbconvert_exporter": "python",
   "pygments_lexer": "ipython3",
   "version": "3.11.6"
  }
 },
 "nbformat": 4,
 "nbformat_minor": 2
}
