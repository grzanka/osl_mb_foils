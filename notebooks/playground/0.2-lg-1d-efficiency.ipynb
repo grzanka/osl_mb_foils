{
 "cells": [
  {
   "cell_type": "code",
   "execution_count": null,
   "metadata": {
    "metadata": {}
   },
   "outputs": [],
   "source": [
    "from src.visualise import settings\n",
    "from src.visualise.plot import plot_data\n",
    "from src.data.paths import project_dir\n",
    "from src.data.analysis import read_tiff_img, Circle, create_circular_mask\n",
    "from src.data.detector import find_circle_hough_method, img_for_circle_detection\n",
    "\n",
    "import numpy as np\n",
    "import matplotlib.pyplot as plt\n",
    "import scipy.ndimage as ndi\n",
    "import re\n",
    "\n",
    "from dataclasses import dataclass, field\n",
    "from pathlib import Path\n",
    "\n",
    "from copy import deepcopy"
   ]
  },
  {
   "cell_type": "markdown",
   "metadata": {},
   "source": [
    "# Data structures"
   ]
  },
  {
   "cell_type": "code",
   "execution_count": null,
   "metadata": {
    "metadata": {}
   },
   "outputs": [],
   "source": [
    "@dataclass(frozen=True)\n",
    "class DetectorImage:\n",
    "    image: np.ndarray\n",
    "    path: Path\n",
    "\n",
    "    @property\n",
    "    def init_circle(self) -> Circle:\n",
    "        return Circle(x=self.image.shape[0]//2, y=self.image.shape[1]//2, r=100)\n",
    "\n",
    "@dataclass(frozen=True)\n",
    "class DetectorData:\n",
    "    raw: DetectorImage\n",
    "    lv: DetectorImage\n",
    "    det_no: int\n",
    "    circle: Circle = field(default=Circle())\n",
    "\n",
    "@dataclass(frozen=True)\n",
    "class DetectorDataCollection:\n",
    "    path: Path\n",
    "    data: dict[int, DetectorData] = field(default_factory=dict)\n",
    "\n",
    "    def __post_init__(self):\n",
    "        if not self.data:\n",
    "            self._load_data()\n",
    "\n",
    "    def _load_data(self):\n",
    "        for file_path in sorted(self.path.iterdir()):\n",
    "            if file_path.name.endswith('lv'):\n",
    "                # get detector data\n",
    "                det_id = re.findall(r'\\d+', file_path.name)[0]\n",
    "                det_no = int(det_id)\n",
    "                # live view images\n",
    "                lv_path = next(file_path.glob('**/*tif'))\n",
    "                lv_data = read_tiff_img(lv_path, border_px=0)\n",
    "                lv_image = DetectorImage(image=lv_data, path=lv_path)\n",
    "                # raw data images\n",
    "                try:\n",
    "                    raw_path = next((self.path / det_id).glob('**/*tif'))\n",
    "                    raw_data = read_tiff_img(raw_path, border_px=0)\n",
    "                    raw_image = DetectorImage(image=raw_data, path=raw_path)\n",
    "                    det_data = DetectorData(raw=raw_image, lv=lv_image, det_no=det_no)\n",
    "                    self.data[det_no] = det_data\n",
    "                    print(f\"{det_no} \", end='')\n",
    "                except StopIteration:\n",
    "                    print(f\"missing_{det_no} \", end='')"
   ]
  },
  {
   "cell_type": "code",
   "execution_count": null,
   "metadata": {
    "metadata": {}
   },
   "outputs": [],
   "source": [
    "raw_path = project_dir / 'data' / 'raw' / '2024-02-20'\n",
    "proton_raw_data = DetectorDataCollection(path=raw_path)"
   ]
  },
  {
   "cell_type": "code",
   "execution_count": null,
   "metadata": {
    "metadata": {}
   },
   "outputs": [],
   "source": [
    "co60_path = project_dir / 'data' / 'raw' / 'Co60'\n",
    "co60_raw_data = DetectorDataCollection(path=co60_path)"
   ]
  },
  {
   "cell_type": "markdown",
   "metadata": {},
   "source": [
    "# Proton raw data"
   ]
  },
  {
   "cell_type": "code",
   "execution_count": null,
   "metadata": {
    "metadata": {}
   },
   "outputs": [],
   "source": [
    "fig, ax = plot_data(proton_raw_data.data[1].lv.image, circle_px=proton_raw_data.data[1].lv.init_circle)"
   ]
  },
  {
   "cell_type": "code",
   "execution_count": null,
   "metadata": {
    "metadata": {}
   },
   "outputs": [],
   "source": [
    "fig, ax = plot_data(proton_raw_data.data[1].raw.image, circle_px=proton_raw_data.data[1].raw.init_circle)"
   ]
  },
  {
   "cell_type": "markdown",
   "metadata": {},
   "source": [
    "# Co60 raw data"
   ]
  },
  {
   "cell_type": "code",
   "execution_count": null,
   "metadata": {
    "metadata": {}
   },
   "outputs": [],
   "source": [
    "fig, ax = plot_data(co60_raw_data.data[1].lv.image, circle_px=co60_raw_data.data[1].lv.init_circle)"
   ]
  },
  {
   "cell_type": "code",
   "execution_count": null,
   "metadata": {
    "metadata": {}
   },
   "outputs": [],
   "source": [
    "fig, ax = plot_data(co60_raw_data.data[1].raw.image, circle_px=co60_raw_data.data[1].raw.init_circle)"
   ]
  },
  {
   "cell_type": "markdown",
   "metadata": {},
   "source": [
    "## Background"
   ]
  },
  {
   "cell_type": "code",
   "execution_count": null,
   "metadata": {
    "metadata": {}
   },
   "outputs": [],
   "source": [
    "background_path = next(raw_path.parent.glob('**/*background*/**/**/*tif'))\n",
    "background_data = DetectorImage(path=background_path, image=read_tiff_img(background_path, border_px=0))"
   ]
  },
  {
   "cell_type": "code",
   "execution_count": null,
   "metadata": {
    "metadata": {}
   },
   "outputs": [],
   "source": [
    "fig, ax = plot_data(background_data.image, circle_px=background_data.init_circle)"
   ]
  },
  {
   "cell_type": "markdown",
   "metadata": {},
   "source": [
    "# Background subtraction"
   ]
  },
  {
   "cell_type": "code",
   "execution_count": null,
   "metadata": {
    "metadata": {}
   },
   "outputs": [],
   "source": [
    "proton_bg_sub_data = DetectorDataCollection(path=proton_raw_data.path, data=deepcopy(proton_raw_data.data))\n",
    "for data in proton_bg_sub_data.data.values():\n",
    "\n",
    "    # out data are save as uint16, dataclasses are frozen\n",
    "    # its not straightforward to use np.crop(0) or cast to int64\n",
    "    # therefore we shift data up, perform background subtraction, crop negative values and shift back\n",
    "    np.add(data.raw.image, background_data.image.max(), out=data.raw.image)    \n",
    "    np.subtract(data.raw.image, background_data.image, out=data.raw.image)\n",
    "    np.clip(data.raw.image, a_min=background_data.image.max(), a_max=None, out=data.raw.image)\n",
    "    np.subtract(data.raw.image, background_data.image.max(), out=data.raw.image)\n"
   ]
  },
  {
   "cell_type": "code",
   "execution_count": null,
   "metadata": {
    "metadata": {}
   },
   "outputs": [],
   "source": [
    "co60_bg_sub_data = DetectorDataCollection(path=co60_raw_data.path, data=deepcopy(co60_raw_data.data))\n",
    "for data in co60_bg_sub_data.data.values():\n",
    "\n",
    "    # out data are save as uint16, dataclasses are frozen\n",
    "    # its not straightforward to use np.crop(0) or cast to int64\n",
    "    # therefore we shift data up, perform background subtraction, crop negative values and shift back\n",
    "    np.add(data.raw.image, background_data.image.max(), out=data.raw.image)    \n",
    "    np.subtract(data.raw.image, background_data.image, out=data.raw.image)\n",
    "    np.clip(data.raw.image, a_min=background_data.image.max(), a_max=None, out=data.raw.image)\n",
    "    np.subtract(data.raw.image, background_data.image.max(), out=data.raw.image)"
   ]
  },
  {
   "cell_type": "code",
   "execution_count": null,
   "metadata": {
    "metadata": {}
   },
   "outputs": [],
   "source": [
    "fig, ax = plot_data(proton_raw_data.data[1].raw.image, circle_px=proton_raw_data.data[1].raw.init_circle)"
   ]
  },
  {
   "cell_type": "code",
   "execution_count": null,
   "metadata": {
    "metadata": {}
   },
   "outputs": [],
   "source": [
    "fig, ax = plot_data(proton_bg_sub_data.data[1].raw.image, circle_px=proton_bg_sub_data.data[1].raw.init_circle)"
   ]
  },
  {
   "cell_type": "markdown",
   "metadata": {},
   "source": [
    "# Detector discovery"
   ]
  },
  {
   "cell_type": "code",
   "execution_count": null,
   "metadata": {
    "metadata": {}
   },
   "outputs": [],
   "source": [
    "det_data_dict = {}\n",
    "for data in proton_bg_sub_data.data.values():\n",
    "    lv_for_detect = img_for_circle_detection(data.lv.image)\n",
    "    circle = find_circle_hough_method(lv_for_detect)\n",
    "    det_data = DetectorData(raw=data.raw, lv=data.lv, det_no=data.det_no, circle=circle)\n",
    "    det_data_dict[data.det_no] = det_data\n",
    "    print(f\"{data.det_no} \", end='')\n",
    "proton_det_data = DetectorDataCollection(path=proton_raw_data.path, data=det_data_dict)"
   ]
  },
  {
   "cell_type": "code",
   "execution_count": null,
   "metadata": {
    "metadata": {}
   },
   "outputs": [],
   "source": [
    "det_data_dict = {}\n",
    "for data in co60_bg_sub_data.data.values():\n",
    "    lv_for_detect = img_for_circle_detection(data.lv.image)\n",
    "    circle = find_circle_hough_method(lv_for_detect)\n",
    "    det_data = DetectorData(raw=data.raw, lv=data.lv, det_no=data.det_no, circle=circle)\n",
    "    det_data_dict[data.det_no] = det_data\n",
    "    print(f\"{data.det_no} \", end='')\n",
    "co60_det_data = DetectorDataCollection(path=co60_raw_data.path, data=det_data_dict)"
   ]
  },
  {
   "cell_type": "code",
   "execution_count": null,
   "metadata": {
    "metadata": {}
   },
   "outputs": [],
   "source": [
    "fig, ax = plot_data(proton_det_data.data[1].raw.image, circle_px=proton_det_data.data[1].circle)"
   ]
  },
  {
   "cell_type": "code",
   "execution_count": null,
   "metadata": {
    "metadata": {}
   },
   "outputs": [],
   "source": [
    "mean_radius = np.mean([data.circle.r for data in proton_det_data.data.values()])\n",
    "mean_radius_mm = 10.0\n",
    "px_to_mm = mean_radius_mm / mean_radius\n",
    "px_to_mm"
   ]
  },
  {
   "cell_type": "code",
   "execution_count": null,
   "metadata": {
    "metadata": {}
   },
   "outputs": [],
   "source": [
    "fig, ax = plt.subplots(2, 3, figsize=(12, 8))\n",
    "for data in proton_det_data.data.values():\n",
    "    ax[0, 0].plot(data.det_no, data.circle.x, '.')\n",
    "    ax[0, 1].plot(data.det_no, data.circle.y, '.')\n",
    "    ax[0, 2].plot(data.det_no, data.circle.r, '.')\n",
    "for data in co60_det_data.data.values():\n",
    "    ax[1, 0].plot(data.det_no, data.circle.x, '.')\n",
    "    ax[1, 1].plot(data.det_no, data.circle.y, '.')\n",
    "    ax[1, 2].plot(data.det_no, data.circle.r, '.')\n",
    "for a in ax.flat:\n",
    "    a.grid()\n",
    "for a in ax[0]:\n",
    "    a.set_xlabel('Proton det no')\n",
    "for a in ax[1]:\n",
    "    a.set_xlabel('Co60 det no')\n",
    "for a in ax[:, 0]:\n",
    "    a.set_ylabel('Det center x [px]')\n",
    "for a in ax[:, 1]:\n",
    "    a.set_ylabel('Det center y [px]')\n",
    "for a in ax[:, 2]:\n",
    "    a.set_ylabel('Det radius [px]')\n",
    "fig.tight_layout()"
   ]
  },
  {
   "cell_type": "code",
   "execution_count": null,
   "metadata": {
    "metadata": {}
   },
   "outputs": [],
   "source": [
    "fig, ax = plt.subplots(2, 3, figsize=(12, 8))\n",
    "for data in proton_det_data.data.values():\n",
    "    ax[0, 0].plot(data.det_no, data.circle.x * px_to_mm, '.')\n",
    "    ax[0, 1].plot(data.det_no, data.circle.y * px_to_mm, '.')\n",
    "    ax[0, 2].plot(data.det_no, data.circle.r * px_to_mm, '.')\n",
    "for data in co60_det_data.data.values():\n",
    "    ax[1, 0].plot(data.det_no, data.circle.x * px_to_mm, '.')\n",
    "    ax[1, 1].plot(data.det_no, data.circle.y * px_to_mm, '.')\n",
    "    ax[1, 2].plot(data.det_no, data.circle.r * px_to_mm, '.')\n",
    "for a in ax.flat:\n",
    "    a.grid()\n",
    "for a in ax[0]:\n",
    "    a.set_xlabel('Proton det no')\n",
    "for a in ax[1]:\n",
    "    a.set_xlabel('Co60 det no')\n",
    "for a in ax[:, 0]:\n",
    "    a.set_ylabel('Det center x [mm]')\n",
    "for a in ax[:, 1]:\n",
    "    a.set_ylabel('Det center y [mm]')\n",
    "for a in ax[:, 2]:\n",
    "    a.set_ylabel('Det radius [mm]')\n",
    "fig.tight_layout()"
   ]
  },
  {
   "cell_type": "markdown",
   "metadata": {},
   "source": [
    "## Detector cutting"
   ]
  },
  {
   "cell_type": "code",
   "execution_count": null,
   "metadata": {
    "metadata": {}
   },
   "outputs": [],
   "source": [
    "min_radius_protons = min([data.circle.r for data in proton_det_data.data.values()])\n",
    "min_radius_co60 = min([data.circle.r for data in co60_det_data.data.values()])\n",
    "min_radius_all = np.floor(min(min_radius_protons, min_radius_co60)).astype(int)\n",
    "\n",
    "print(f\"min radius - protons: {min_radius_protons:.2f}, Co60: {min_radius_co60:.2f}, all: {min_radius_all}\")\n",
    "print(f\"min radius - protons: {min_radius_protons * px_to_mm:.2f} [mm], Co60: {min_radius_co60 * px_to_mm:.2f} [mm], all: {min_radius_all * px_to_mm:.2f} [mm]\")"
   ]
  },
  {
   "cell_type": "code",
   "execution_count": null,
   "metadata": {
    "metadata": {}
   },
   "outputs": [],
   "source": [
    "def cut_detector(det_data: DetectorData, min_radius: int, factor: float = 1.2) -> DetectorData:\n",
    "    lower_x = np.ceil(det_data.circle.x - factor*min_radius).astype(int)\n",
    "    upper_x = np.floor(det_data.circle.x + factor*min_radius).astype(int)\n",
    "    lower_y = np.ceil(det_data.circle.y - factor*min_radius).astype(int)\n",
    "    upper_y = np.floor(det_data.circle.y + factor*min_radius).astype(int)\n",
    "    \n",
    "    new_circle = Circle(x=det_data.circle.x - lower_x, y=det_data.circle.y - lower_y, r=det_data.circle.r)\n",
    "    cut_raw_image = det_data.raw.image[lower_y:upper_y, lower_x:upper_x][:]\n",
    "    cut_lv_image = det_data.lv.image[lower_y:upper_y, lower_x:upper_x][:]\n",
    "\n",
    "    return DetectorData(raw=DetectorImage(image=cut_raw_image, path=det_data.raw.path), lv=DetectorImage(image=cut_lv_image, path=det_data.lv.path), det_no=det_data.det_no, circle=new_circle)"
   ]
  },
  {
   "cell_type": "code",
   "execution_count": null,
   "metadata": {
    "metadata": {}
   },
   "outputs": [],
   "source": [
    "c1 = cut_detector(proton_det_data.data[1], min_radius_all)\n",
    "fig, ax = plot_data(c1.lv.image, circle_px=c1.circle)"
   ]
  },
  {
   "cell_type": "code",
   "execution_count": null,
   "metadata": {
    "metadata": {}
   },
   "outputs": [],
   "source": [
    "det_data_dict = {}\n",
    "for data in proton_det_data.data.values():\n",
    "    det_data_dict[data.det_no] = cut_detector(data, min_radius_all)\n",
    "    print(f\"{data.det_no} \", end='')\n",
    "proton_det_cut_data = DetectorDataCollection(path=proton_det_data.path, data=det_data_dict)"
   ]
  },
  {
   "cell_type": "code",
   "execution_count": null,
   "metadata": {
    "metadata": {}
   },
   "outputs": [],
   "source": [
    "det_data_dict = {}\n",
    "for data in co60_det_data.data.values():\n",
    "    det_data_dict[data.det_no] = cut_detector(data, min_radius_all)\n",
    "    print(f\"{data.det_no} \", end='')\n",
    "co60_det_cut_data = DetectorDataCollection(path=co60_det_data.path, data=det_data_dict)"
   ]
  },
  {
   "cell_type": "code",
   "execution_count": null,
   "metadata": {
    "metadata": {}
   },
   "outputs": [],
   "source": [
    "fig, ax = plot_data(proton_det_cut_data.data[19].raw.image, circle_px=proton_det_cut_data.data[1].circle)"
   ]
  },
  {
   "cell_type": "markdown",
   "metadata": {},
   "source": [
    "# Mean signal inspection"
   ]
  },
  {
   "cell_type": "code",
   "execution_count": null,
   "metadata": {
    "metadata": {}
   },
   "outputs": [],
   "source": [
    "min_radius_all\n",
    "singal_radius = 0.5 * min_radius_all\n",
    "singal_radius"
   ]
  },
  {
   "cell_type": "code",
   "execution_count": null,
   "metadata": {
    "metadata": {}
   },
   "outputs": [],
   "source": [
    "from collections import defaultdict\n",
    "import pandas as pd\n",
    "df_data = defaultdict(list)\n",
    "for data in proton_det_cut_data.data.values():\n",
    "    mask = create_circular_mask(img=data.raw.image, circle_px=Circle(x=data.circle.x, y=data.circle.y, r=singal_radius))\n",
    "    df_data[\"det_no\"] += [int(data.det_no)]\n",
    "    df_data[\"mean_signal\"] += [np.mean(data.raw.image[mask])]\n",
    "    df_data[\"std_signal\"] += [np.std(data.raw.image[mask])]\n",
    "    df_data[\"radiation\"] += [\"proton\"]\n",
    "for data in co60_det_cut_data.data.values():\n",
    "    mask = create_circular_mask(img=data.raw.image, circle_px=Circle(x=data.circle.x, y=data.circle.y, r=singal_radius))\n",
    "    df_data[\"det_no\"] += [int(data.det_no)]\n",
    "    df_data[\"mean_signal\"] += [np.mean(data.raw.image[mask])]\n",
    "    df_data[\"std_signal\"] += [np.std(data.raw.image[mask])]\n",
    "    df_data[\"radiation\"] += [\"Co60\"]\n",
    "df = pd.DataFrame(df_data)\n",
    "df.sort_values(by=[\"radiation\",\"det_no\"], inplace=True)\n",
    "df"
   ]
  },
  {
   "cell_type": "code",
   "execution_count": null,
   "metadata": {
    "metadata": {}
   },
   "outputs": [],
   "source": [
    "df[df.radiation == 'proton'].plot(x='det_no', y='mean_signal', yerr='std_signal', kind='bar', figsize=(12, 8), grid=True)"
   ]
  },
  {
   "cell_type": "code",
   "execution_count": null,
   "metadata": {
    "metadata": {}
   },
   "outputs": [],
   "source": [
    "df[df.radiation == 'Co60'].plot(x='det_no', y='mean_signal', yerr='std_signal', kind='bar', figsize=(12, 8), grid=True)"
   ]
  },
  {
   "cell_type": "markdown",
   "metadata": {},
   "source": [
    "# Good dataset selection"
   ]
  },
  {
   "cell_type": "code",
   "execution_count": null,
   "metadata": {},
   "outputs": [],
   "source": [
    "det_data_dict = {}\n",
    "for data in proton_det_cut_data.data.values():\n",
    "    if data.det_no <= 19:\n",
    "        det_data_dict[data.det_no] = data\n",
    "        print(f\"{data.det_no} \", end='')\n",
    "proton_det_sel_data = DetectorDataCollection(path=proton_det_cut_data.path, data=det_data_dict)"
   ]
  },
  {
   "cell_type": "code",
   "execution_count": null,
   "metadata": {},
   "outputs": [],
   "source": [
    "det_data_dict = {}\n",
    "for data in co60_det_cut_data.data.values():\n",
    "    if data.det_no <= 19:\n",
    "        det_data_dict[data.det_no] = data\n",
    "        print(f\"{data.det_no} \", end='')\n",
    "co60_det_sel_data = DetectorDataCollection(path=co60_det_cut_data.path, data=det_data_dict)"
   ]
  },
  {
   "cell_type": "code",
   "execution_count": null,
   "metadata": {
    "metadata": {}
   },
   "outputs": [],
   "source": [
    "import random\n",
    "import math\n",
    "num_circles = 1000\n",
    "small_radius = 10\n",
    "shift_x, shift_y = [], []\n",
    "for _ in range(num_circles):\n",
    "    angle = random.uniform(0, 2*np.pi)\n",
    "    distance = random.uniform(0, 0.8*min_radius_all-small_radius)\n",
    "    shift_x.append(distance * math.cos(angle))\n",
    "    shift_y.append(distance * math.sin(angle))"
   ]
  },
  {
   "cell_type": "code",
   "execution_count": null,
   "metadata": {},
   "outputs": [],
   "source": [
    "df_data = defaultdict(list)\n",
    "for data in proton_det_cut_data.data.values():\n",
    "    for circle_no in range(num_circles):\n",
    "        circle = Circle(x=data.circle.x + shift_x[circle_no], y=data.circle.y + shift_y[circle_no], r=small_radius)\n",
    "        mask = create_circular_mask(img=data.raw.image, circle_px=circle)\n",
    "        df_data[\"det_no\"] += [int(data.det_no)]\n",
    "        df_data[\"mean_signal\"] += [np.mean(data.raw.image[mask])]\n",
    "        df_data[\"std_signal\"] += [np.std(data.raw.image[mask])]\n",
    "        df_data[\"radiation\"] += [\"proton\"]\n",
    "        df_data[\"circle_no\"] += [circle_no]\n",
    "for data in co60_det_cut_data.data.values():\n",
    "    for circle_no in range(num_circles):\n",
    "        circle = Circle(x=data.circle.x + shift_x[circle_no], y=data.circle.y + shift_y[circle_no], r=small_radius)\n",
    "        mask = create_circular_mask(img=data.raw.image, circle_px=circle)\n",
    "        df_data[\"det_no\"] += [int(data.det_no)]\n",
    "        df_data[\"mean_signal\"] += [np.mean(data.raw.image[mask])]\n",
    "        df_data[\"std_signal\"] += [np.std(data.raw.image[mask])]\n",
    "        df_data[\"radiation\"] += [\"Co60\"]\n",
    "        df_data[\"circle_no\"] += [circle_no]\n",
    "df = pd.DataFrame(df_data)\n",
    "df.sort_values(by=[\"radiation\",\"det_no\"], inplace=True)\n",
    "df"
   ]
  },
  {
   "cell_type": "code",
   "execution_count": null,
   "metadata": {},
   "outputs": [],
   "source": [
    "import seaborn as sns\n",
    "sns.set_theme(style=\"whitegrid\")\n",
    "sns.relplot(x=\"det_no\", y=\"mean_signal\", hue=\"circle_no\", col=\"radiation\", data=df)\n"
   ]
  },
  {
   "cell_type": "code",
   "execution_count": null,
   "metadata": {},
   "outputs": [],
   "source": [
    "df2 = pd.DataFrame()\n",
    "df2[\"mean\"] = df.groupby([\"radiation\", \"det_no\"])[\"mean_signal\"].mean()\n",
    "df2[\"std\"] = df.groupby([\"radiation\", \"det_no\"])[\"mean_signal\"].std()\n",
    "df2"
   ]
  },
  {
   "cell_type": "code",
   "execution_count": null,
   "metadata": {},
   "outputs": [],
   "source": [
    "sns.relplot(data=df2.reset_index(), x='det_no', y='mean', hue='radiation', style='radiation', kind='line')"
   ]
  },
  {
   "cell_type": "code",
   "execution_count": null,
   "metadata": {},
   "outputs": [],
   "source": [
    "sns.relplot(data=df2.reset_index(), x='det_no', y='std', hue='radiation', style='radiation', kind='line')"
   ]
  },
  {
   "cell_type": "code",
   "execution_count": null,
   "metadata": {},
   "outputs": [],
   "source": [
    "# Reset the index if df2 is a MultiIndex DataFrame\n",
    "df2_reset = df2.reset_index()\n",
    "\n",
    "# Create a figure and axis object\n",
    "plt.figure(figsize=(10, 6))\n",
    "\n",
    "# Plot the mean values with line and scatter points\n",
    "sns.lineplot(data=df2_reset, x='det_no', y='mean', hue='radiation', style='radiation', markers=True, dashes=False)\n",
    "\n",
    "# Add error bars\n",
    "for radiation_type in df2_reset['radiation'].unique():\n",
    "    subset = df2_reset[df2_reset['radiation'] == radiation_type]\n",
    "    plt.errorbar(subset['det_no'], subset['mean'], yerr=subset['std'], fmt='none', capsize=5, label=f'{radiation_type} Error')\n",
    "\n",
    "plt.title('Mean Values and Standard Deviations by Detector Number')\n",
    "plt.xlabel('Detector Number')\n",
    "plt.ylabel('Measured Value')\n",
    "plt.legend(title='Radiation Type')"
   ]
  },
  {
   "cell_type": "code",
   "execution_count": null,
   "metadata": {},
   "outputs": [],
   "source": [
    "import seaborn as sns\n",
    "import matplotlib.pyplot as plt\n",
    "\n",
    "# Assuming df2 is already defined and includes 'mean' and 'std' columns for each 'det_no' for different 'radiation' conditions.\n",
    "\n",
    "# Reset the index if df2 is a MultiIndex DataFrame\n",
    "df2_reset = df2.reset_index()\n",
    "\n",
    "# Filter the data for 'Co60' radiation\n",
    "df2_co60 = df2_reset[df2_reset['radiation'] == 'Co60']\n",
    "\n",
    "# Create a figure and axis object\n",
    "plt.figure(figsize=(10, 6))\n",
    "\n",
    "# Plot the mean values with line and scatter points for Co60\n",
    "sns.lineplot(data=df2_co60, x='det_no', y='mean', hue='radiation', style='radiation', markers=True, dashes=False)\n",
    "\n",
    "# Add error bars for Co60\n",
    "plt.errorbar(df2_co60['det_no'], df2_co60['mean'], yerr=df2_co60['std'], fmt='o', capsize=5, label='Co60 Error')\n",
    "\n",
    "plt.title('Mean Values and Standard Deviations for Co60 Radiation')\n",
    "plt.xlabel('Detector Number')\n",
    "plt.ylabel('Measured Value')\n",
    "plt.legend(title='Radiation Type')"
   ]
  },
  {
   "cell_type": "code",
   "execution_count": null,
   "metadata": {},
   "outputs": [],
   "source": [
    "plot_data((proton_data.astype(np.int64)-background_data.astype(np.int64)).clip(0,None), path='', circle_px=Circle(c.x, c.y, 80))"
   ]
  },
  {
   "cell_type": "code",
   "execution_count": null,
   "metadata": {},
   "outputs": [],
   "source": [
    "dose_proton_Gy = 5\n",
    "\n",
    "proton_data_bg_removed = (proton_data.astype(np.int64)-background_data.astype(np.int64)).clip(0,None)\n",
    "mask_for_circle = create_circular_mask(img=proton_data_bg_removed, circle_px=Circle(c.x, c.y, 80))\n",
    "proton_data_bg_removed_mean = np.mean(proton_data_bg_removed[mask_for_circle], where=proton_data_bg_removed[mask_for_circle]>0)\n",
    "proton_data_bg_removed_std = np.std(proton_data_bg_removed[mask_for_circle], where=proton_data_bg_removed[mask_for_circle]>0)\n",
    "proton_data_bg_removed_mean\n",
    "\n",
    "proton_data_bg_removed_mean / dose_proton_Gy, proton_data_bg_removed_std / proton_data_bg_removed_mean"
   ]
  },
  {
   "cell_type": "markdown",
   "metadata": {},
   "source": [
    "# Efficiency"
   ]
  },
  {
   "cell_type": "code",
   "execution_count": null,
   "metadata": {},
   "outputs": [],
   "source": [
    "co60_signal_per_Gy = (co60_data.astype(np.int64)-background_data.astype(np.int64)).clip(1,None) / dose_Co60\n",
    "proton_signal_per_Gy = (proton_data.astype(np.int64)-background_data.astype(np.int64)).clip(1,None) / dose_proton_Gy\n",
    "plot_data((proton_signal_per_Gy / co60_signal_per_Gy).clip(0.001,2), path='', circle_px=Circle(c.x, c.y, 80))"
   ]
  },
  {
   "cell_type": "code",
   "execution_count": null,
   "metadata": {},
   "outputs": [],
   "source": [
    "(proton_data_bg_removed_mean / dose_proton_Gy) / (co60_data_bg_removed_mean / dose_Co60)"
   ]
  },
  {
   "cell_type": "code",
   "execution_count": null,
   "metadata": {},
   "outputs": [],
   "source": [
    "plot_data(ndi.median_filter((proton_signal_per_Gy / co60_signal_per_Gy).clip(0.001,2),size=20), path='', circle_px=Circle(c.x, c.y, 80))"
   ]
  },
  {
   "cell_type": "code",
   "execution_count": null,
   "metadata": {},
   "outputs": [],
   "source": []
  }
 ],
 "metadata": {
  "kernelspec": {
   "display_name": ".venv",
   "language": "python",
   "name": "python3"
  },
  "language_info": {
   "codemirror_mode": {
    "name": "ipython",
    "version": 3
   },
   "file_extension": ".py",
   "mimetype": "text/x-python",
   "name": "python",
   "nbconvert_exporter": "python",
   "pygments_lexer": "ipython3",
   "version": "3.11.6"
  }
 },
 "nbformat": 4,
 "nbformat_minor": 2
}
